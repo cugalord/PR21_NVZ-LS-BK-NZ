{
 "cells": [
  {
   "cell_type": "markdown",
   "metadata": {},
   "source": [
    "# Analiza energetike v Sloveniji\n",
    "## Projektna naloga pri predmetu Podatkovno rudarjenje\n",
    "---\n",
    "Pri projektu za predmet Podatkovno rudarjenje smo analizirali področje energetike v Sloveniji. Za to temo smo se odločili, ker je energetika vse bolj pomembna v sodobni družbi, osredotočili pa smo se na analizo cen energentov ter odvisnosti med njimi.\n",
    "\n",
    "Pridobljene zbirke cen energentov skozi čas smo prilagodili za opazovanje cen skozi četrtletja, kar nam je omogočalo v primerjavi uporabiti tudi druge dejavnike kot so letni časi.\n",
    "\n",
    "V poročilu smo odgovarjali na 4 vprašanja, in sicer: Primerjava cen električne energije gospodinjskih in negospodinjskih odjemalcev; Morebitna korelacija cene zemeljskega plina, električne energije in pogonskih goriv; Analiza energetske bilance, pri kateri smo opazovali rast porabe energije glede na panogo; Analiza oskrbe z električno energijo, kjer smo opazovali rast dejanske moči in proizvodnje električne energije.\n",
    "\n",
    "Koda, uporabljena za odgovarjanje na vprašanja je dostopna v Jupyter notebook formatu v mapi [src](src), za branje smo uporabili naš pomožni modul [data_extraction.py](src/reading/data_extraction.py), prav tako pa smo uporabljali tudi modul z pomožnimi funkcijami [misc_utils.py](src/misc_utils.py).\n",
    "\n",
    "---\n",
    "## 1. Primerjava cen električne energije\n",
    "### 1.1 Pregled podatkov\n",
    "\n",
    "Prvega vprašanja smo se lotili z pregledom podatkov v podatkovnih množicah. Iz izpisa podatkovnih okvirjev in prikazanih grafov je bilo možno opaziti, da imajo odjemalci z manj močnimi priklopi višje cene el. energije kot odjemalci z močnejšimi priklopi. Prav tako smo opazili, da imajo negospodinjski odjemalci več standardnih porabniških skupin, in kot pričakovano, večje priklopne moči v primerjavi z gospodinjskimi odjemalci. Opazili smo tudi, da imajo negospodinjski odjemalci višjo mminimalno ceno, a nižjo maksimalno ceno el. energije, hkrati pa tudi, da je razpon med cenami el. energije negospodinjskih odjemalcev veliko manjši.\n",
    "\n",
    "### 1.2 Analiza gospodinjskih odjemalcev\n",
    "\n",
    "V naslednjem koraku smo se osredotočili na gospodinjske odjemalce, kjer smo iz grafa za primerjavo sprememb cen različnih standardnih porabniških skupin (od tu dalje SPS) opazili padec cen v drugem četrtletju leta 2020 in ugotovilim da se je [aprila tistega leta poraba el. energije zmanjšala za 19% v primerjavi z marcem](https://www.stat.si/statweb/News/Index/8852) in 15% v primerjavi z aprilom 2019. Manjši proizvodnji el. energije je sledila tudi manjša poraba goriv. Skupna poraba goriv aprila 2020 je bila prav tako za 19% manjša kot aprila 2019. Prav tako se je zmanjšala tudi oskrba z motornim (za 43%) in dizelskim gorivom (za 65%), kar je bilo večinoma posledica ukrepov proti COVID-19.\n",
    "<br>\n",
    "![Primerjava cen gospodinjskih in negospodinjskih odjemalcev](resources/Graf%20sprememb%20cen%20-%20SPS%20.png)\n",
    "\n",
    "#### 1.2.1 Analiza porasta cen standarnde porabniške skupine DA leta 2017/2018\n",
    "\n",
    "Ker smo na grafu opazili močan porast cen SPS DA v zadnjem četrtletju 2016 in v letih 2017, 2018, smo se odločili da bomo ta pojav podrobnejše analizirali, kar pa smo naredili z primerjavo cen s SPS DE. Iz izpisa razlik cen v primerjavi s SPS DE smo opazili, da je cena el. energije SPS DA iz leta 2016 na leti 2017/2018 narasla za približno 87%. Že v zadnjem četrtletju 2016 sta se ceni razlikovali za 46% (0.0575€), nato pa je njuna razlika narasla na povprečno 133%.  \n",
    "\n",
    "Ob preverjanju možnih dejavnikov, ki bi lahko vplivali na višje cene, smo ugotovili, da je se je v letu 2018 zgodil porast cen energetskih surovin ter da je prišlo do [upad domače proizvodnje, kar je dvignilo ceno zemeljskega plina](https://www.gzs.si/Portals/SN-informacije-Pomoc/Vsebine/GG/december-2018/65.pdf). Prav tako se je v Angliji zaprlo največje skladišče zemeljskega plina.\n",
    "<br>\n",
    "![Razčlenitev cene električne energije SPS DA(<1000KWh)](resources/Razclenitev%20-%20DA.png)"
   ]
  }
 ],
 "metadata": {
  "language_info": {
   "name": "python"
  },
  "orig_nbformat": 4
 },
 "nbformat": 4,
 "nbformat_minor": 2
}
