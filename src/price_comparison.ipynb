{
    "cells": [
        {
            "cell_type": "markdown",
            "metadata": {},
            "source": [
                "# 1. Primerjava cen električne energije\n",
                "\n",
                "**Pri tem vprašanju nas zanima primerjava cen električne energije med gospodinjskimi in negospodinjskimi odjemalci ter med različnimi standardnimi porabniškimi skupinami.**"
            ]
        },
        {
            "cell_type": "markdown",
            "metadata": {},
            "source": [
                "#### 1.1 Pregled podatkov v potrebnih podatkovnih setih\n",
                "\n",
                "Najprej smo pregledali podatke v podatkovnih setih, ki smo jih uporabljali. To smo naredili z izpisom opisa podatkovnega okvirja in nekaj osnovnimi grafi."
            ]
        },
        {
            "cell_type": "code",
            "execution_count": 20,
            "metadata": {},
            "outputs": [
                {
                    "name": "stdout",
                    "output_type": "stream",
                    "text": [
                        "5    0.2166\n",
                        "Name: 2012Q1, dtype: float64\n"
                    ]
                }
            ],
            "source": [
                "from reading import data_extraction as de\n",
                "import matplotlib.pyplot as plt\n",
                "import numpy as np\n",
                "import pandas as pd\n",
                "from collections import defaultdict\n",
                "\n",
                "household_prices = de.read('../data/Cene el. energije za gospodinjske odjemalce.csv')\n",
                "\n",
                "#print(household_prices.describe())\n",
                "\n",
                "hp = dict()\n",
                "\n",
                "for value in household_prices['STANDARDNA PORABNIŠKA SKUPINA (LETNA PORABA)']:\n",
                "    if value not in hp:\n",
                "        hp[value] = dict()\n",
                "       \n",
                "for column in household_prices.columns[2:]:\n",
                "    for key, value in hp.items():\n",
                "        hp[key][column] = household_prices[column][household_prices['STANDARDNA PORABNIŠKA SKUPINA (LETNA PORABA)'] == key][household_prices['CENA'] == 'Z vsemi davki']\n",
                "        \n",
                "print(hp['DA (<1000 KWh)']['2012Q1'])\n"
            ]
        },
        {
            "cell_type": "markdown",
            "metadata": {},
            "source": [
                "#### 1.2 tmp"
            ]
        },
        {
            "cell_type": "code",
            "execution_count": null,
            "metadata": {},
            "outputs": [],
            "source": []
        },
        {
            "cell_type": "markdown",
            "metadata": {},
            "source": [
                "#### 1.3 tmp"
            ]
        },
        {
            "cell_type": "code",
            "execution_count": null,
            "metadata": {},
            "outputs": [],
            "source": []
        },
        {
            "cell_type": "markdown",
            "metadata": {},
            "source": [
                "#### 1.4 tmp"
            ]
        },
        {
            "cell_type": "code",
            "execution_count": null,
            "metadata": {},
            "outputs": [],
            "source": []
        }
    ],
    "metadata": {
        "interpreter": {
            "hash": "2be5faf79681da6f2a61fdfdd5405d65d042280f7fba6178067603e3a2925119"
        },
        "kernelspec": {
            "display_name": "Python 3.10.0 64-bit",
            "language": "python",
            "name": "python3"
        },
        "language_info": {
            "codemirror_mode": {
                "name": "ipython",
                "version": 3
            },
            "file_extension": ".py",
            "mimetype": "text/x-python",
            "name": "python",
            "nbconvert_exporter": "python",
            "pygments_lexer": "ipython3",
            "version": "3.10.0"
        },
        "orig_nbformat": 4
    },
    "nbformat": 4,
    "nbformat_minor": 2
}
