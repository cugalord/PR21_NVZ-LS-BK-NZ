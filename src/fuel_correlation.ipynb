{
 "cells": [
  {
   "cell_type": "markdown",
   "metadata": {},
   "source": [
    "# 2. Morebitna korelacija cene zemeljskega plina, električne energije in pogonskih goriv\n",
    "\n",
    "**Pri tem vprašanju nas je zanimalo, ali obstaja odvisnost med cenami zemeljskega plina, električne energije in pgoosnkih goriv glede na morebitne dobavne oz. geopolitične krize.**"
   ]
  },
  {
   "cell_type": "markdown",
   "metadata": {},
   "source": [
    "#### 1.1 Pregled podatkov v potrebnih podatkovnih množicah\n",
    "\n",
    "Najprej smo pregledali podatke v podatkovnih množicah, ki smo jih uporabljali. To smo naredili z izpisom opisa podatkovnega okvirja in nekaj osnovnimi grafi."
   ]
  },
  {
   "cell_type": "code",
   "execution_count": null,
   "metadata": {
    "vscode": {
     "languageId": "plaintext"
    }
   },
   "outputs": [],
   "source": []
  }
 ],
 "metadata": {
  "language_info": {
   "name": "python"
  },
  "orig_nbformat": 4
 },
 "nbformat": 4,
 "nbformat_minor": 2
}
